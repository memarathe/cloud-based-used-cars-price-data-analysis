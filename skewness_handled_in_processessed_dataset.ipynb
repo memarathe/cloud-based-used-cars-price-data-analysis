{
  "nbformat": 4,
  "nbformat_minor": 0,
  "metadata": {
    "colab": {
      "provenance": []
    },
    "kernelspec": {
      "name": "python3",
      "display_name": "Python 3"
    },
    "language_info": {
      "name": "python"
    }
  },
  "cells": [
    {
      "cell_type": "code",
      "source": [
        "# prompt: df.show() , instead write to a new csv file, make sure no data is lost\n",
        "\n",
        "from pyspark.sql import SparkSession\n",
        "from pyspark.sql.functions import col, log, exp, when\n",
        "from pyspark.sql.functions import skewness\n",
        "\n",
        "# Initialize SparkSession\n",
        "spark = SparkSession.builder.appName(\"SkewnessHandling\").getOrCreate()\n",
        "\n",
        "# Load the CSV file into a Spark DataFrame\n",
        "df = spark.read.csv(\"/content/part-00000-f6621328-5892-4709-89ba-3ff15e6b235f-c000.csv\", header=True, inferSchema=True)\n",
        "\n",
        "# Specify the numeric columns that need skewness and outlier handling\n",
        "numeric_inputs = ['odometer','car_name_sum']\n",
        "\n",
        "# Create a dictionary to store the quantiles (1st and 99th percentiles)\n",
        "d = {}\n",
        "for col_name in numeric_inputs:\n",
        "    # Calculate the 1st and 99th percentiles for each column\n",
        "    d[col_name] = df.approxQuantile(col_name, [0.01, 0.99], 0.25)\n",
        "\n",
        "# Handle skewness and outliers\n",
        "for col_name in numeric_inputs:\n",
        "    # Calculate skewness for each numeric column\n",
        "    skew = df.agg(skewness(col(col_name))).collect()[0][0]\n",
        "\n",
        "    # Clip values to handle outliers (below 1st quantile and above 99th quantile)\n",
        "    clipped_col = when(df[col_name] < d[col_name][0], d[col_name][0])\\\n",
        "                  .when(df[col_name] > d[col_name][1], d[col_name][1])\\\n",
        "                  .otherwise(df[col_name])\n",
        "\n",
        "    # If skewness is positive (right skew), apply log transformation\n",
        "    if skew > 1:\n",
        "        df = df.withColumn(col_name, log(clipped_col + 1).alias(col_name))  # Apply log transformation\n",
        "        print(f\"{col_name} has been treated for positive (right) skewness. (skew = {skew})\")\n",
        "\n",
        "    # If skewness is negative (left skew), apply exponential transformation\n",
        "    elif skew < -1:\n",
        "        df = df.withColumn(col_name, exp(clipped_col).alias(col_name))  # Apply exponential transformation\n",
        "        print(f\"{col_name} has been treated for negative (left) skewness. (skew = {skew})\")\n",
        "\n",
        "df.show()\n",
        "# Write the transformed DataFrame to a new CSV file\n",
        "df.write.csv(\"/content/transformed_data.csv\", header=True, mode=\"overwrite\")\n",
        "\n",
        "print(\"Transformed data saved to transformed_data.csv\")\n",
        "\n",
        "# Stop the SparkSession\n",
        "spark.stop()"
      ],
      "metadata": {
        "colab": {
          "base_uri": "https://localhost:8080/"
        },
        "id": "B4kmAQ3y5z3u",
        "outputId": "93575931-43ed-40bd-bf5d-3194297a71ee"
      },
      "execution_count": 3,
      "outputs": [
        {
          "output_type": "stream",
          "name": "stdout",
          "text": [
            "odometer has been treated for positive (right) skewness. (skew = 45.85996984126468)\n",
            "car_name_sum has been treated for positive (right) skewness. (skew = 3.8825305255308415)\n",
            "+-------+----+------------+------------------+------------+-----------+-----------+-----+-------------------+--------+--------------------+-------------------+-------------+--------------------+------------------+\n",
            "|  price|year|manufacturer|          odometer|transmission|       type|paint_color|state|       posting_date|zip_code|transmission_indexed|paint_color_indexed|state_indexed|manufacturer_indexed|      car_name_sum|\n",
            "+-------+----+------------+------------------+------------+-----------+-----------+-----+-------------------+--------+--------------------+-------------------+-------------+--------------------+------------------+\n",
            "| 7990.0|2012|      nissan|11.695721908987394|   automatic|        SUV|      white|   fl|2021-04-23 18:45:23|   33604|                 0.0|                0.0|          1.0|                 4.0|1.0986122886681096|\n",
            "|18980.0|2013|      subaru|11.520149310059548|      manual|      wagon|     silver|   wa|2021-05-05 01:00:56|   99207|                 2.0|                2.0|          9.0|                12.0|1.3862943611198906|\n",
            "|28980.0|2012|        ford|11.448728218925021|   automatic|      truck|      black|   wa|2021-04-16 02:31:18|   99207|                 0.0|                1.0|          9.0|                 0.0|1.0986122886681096|\n",
            "| 6900.0|2009|         gmc| 12.45293662970407|   automatic|      truck|        red|   oh|2021-04-20 23:07:51|   45215|                 0.0|                4.0|          4.0|                 6.0|1.0986122886681096|\n",
            "|18499.0|2010|         ram|11.762056400052822|   automatic|      truck|      black|   ri|2021-04-23 15:15:21|    2914|                 0.0|                1.0|         40.0|                 7.0|1.6094379124341003|\n",
            "|15999.0|2016|   chevrolet| 11.90049133319056|   automatic|     pickup|      white|   oh|2021-05-03 15:04:41|   45377|                 0.0|                0.0|          4.0|                 1.0|1.0986122886681096|\n",
            "|10402.0|2015|      nissan| 11.27966844449652|   automatic|        SUV|     silver|   tn|2021-04-10 17:21:18|   37620|                 0.0|                2.0|         16.0|                 4.0|1.3862943611198906|\n",
            "|24800.0|2017|    infiniti|11.315985579152654|   automatic|        SUV|      black|   mo|2021-04-14 17:58:11|   65616|                 0.0|                1.0|         30.0|                19.0|1.0986122886681096|\n",
            "|17875.0|1995|   chevrolet|11.361765309065477|   automatic|convertible|      green|   nj|2021-04-22 23:13:15|   33770|                 0.0|                7.0|         15.0|                 1.0|1.0986122886681096|\n",
            "| 6995.0|2002|      toyota| 12.11563358254935|   automatic|        SUV|       grey|   fl|2021-04-09 13:49:58|   34982|                 0.0|                5.0|          1.0|                 2.0|1.3862943611198906|\n",
            "|37990.0|2016|      toyota|10.037625011465359|       other|     pickup|      black|   ny|2021-04-26 15:30:56|   14757|                 1.0|                1.0|          2.0|                 2.0| 1.791759469228055|\n",
            "|18000.0|2011|      toyota|11.624949728460317|   automatic|   mini-van|     silver|   nc|2021-04-07 17:40:49|   28358|                 0.0|                2.0|          7.0|                 2.0|1.0986122886681096|\n",
            "|23999.0|2019|        jeep| 9.160414563206457|   automatic|        SUV|      white|   wa|2021-04-24 17:02:04|   98371|                 0.0|                0.0|          9.0|                 5.0|1.0986122886681096|\n",
            "|39990.0|2020|        ford|  9.51980839774982|   automatic|        van|      white|   mi|2021-04-14 20:33:18|   49078|                 0.0|                0.0|          6.0|                 0.0|1.6094379124341003|\n",
            "|37900.0|2017|        audi|10.511512479679238|   automatic|        SUV|       grey|   fl|2021-04-26 15:37:25|   34104|                 0.0|                5.0|          1.0|                14.0|1.0986122886681096|\n",
            "|26350.0|2017|         bmw|11.022735454804309|   automatic|      wagon|      black|   mi|2021-04-26 19:22:13|   48734|                 0.0|                1.0|          6.0|                 8.0|1.0986122886681096|\n",
            "| 8495.0|2008|       honda| 11.73669282167739|   automatic|        van|     silver|   md|2021-04-21 20:35:33|   22554|                 0.0|                2.0|         24.0|                 3.0|1.0986122886681096|\n",
            "|32990.0|2019|       acura|10.265836369570664|       other|      sedan|      black|   nh|2021-04-26 21:31:24|    3103|                 1.0|                1.0|         37.0|                22.0| 1.791759469228055|\n",
            "|16590.0|2015|      toyota|10.747014024455444|       other|      sedan|      white|   tx|2021-04-29 22:21:24|   78212|                 1.0|                0.0|          3.0|                 2.0|1.9459101490553132|\n",
            "|13995.0|2013|       buick| 9.926080401188763|   automatic|      sedan|     silver|   fl|2021-04-17 18:55:39|   34952|                 0.0|                2.0|          1.0|                21.0|1.3862943611198906|\n",
            "+-------+----+------------+------------------+------------+-----------+-----------+-----+-------------------+--------+--------------------+-------------------+-------------+--------------------+------------------+\n",
            "only showing top 20 rows\n",
            "\n",
            "Transformed data saved to transformed_data.csv\n"
          ]
        }
      ]
    }
  ]
}